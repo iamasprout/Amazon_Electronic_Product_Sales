{
 "cells": [
  {
   "cell_type": "code",
   "execution_count": 1,
   "id": "741150d2",
   "metadata": {},
   "outputs": [],
   "source": [
    "# importing libraries to be used\n",
    "import pandas as pd\n",
    "import matplotlib.pyplot as plt\n",
    "import seaborn as sns\n",
    "import numpy as np"
   ]
  },
  {
   "cell_type": "code",
   "execution_count": 2,
   "id": "a80e9b9c",
   "metadata": {},
   "outputs": [],
   "source": [
    "# reading dataset\n",
    "df=pd.read_csv('electronics.csv')"
   ]
  },
  {
   "cell_type": "code",
   "execution_count": 3,
   "id": "95f754f1",
   "metadata": {},
   "outputs": [
    {
     "data": {
      "text/html": [
       "<div>\n",
       "<style scoped>\n",
       "    .dataframe tbody tr th:only-of-type {\n",
       "        vertical-align: middle;\n",
       "    }\n",
       "\n",
       "    .dataframe tbody tr th {\n",
       "        vertical-align: top;\n",
       "    }\n",
       "\n",
       "    .dataframe thead th {\n",
       "        text-align: right;\n",
       "    }\n",
       "</style>\n",
       "<table border=\"1\" class=\"dataframe\">\n",
       "  <thead>\n",
       "    <tr style=\"text-align: right;\">\n",
       "      <th></th>\n",
       "      <th>item_id</th>\n",
       "      <th>user_id</th>\n",
       "      <th>rating</th>\n",
       "      <th>timestamp</th>\n",
       "      <th>model_attr</th>\n",
       "      <th>category</th>\n",
       "      <th>brand</th>\n",
       "      <th>year</th>\n",
       "      <th>user_attr</th>\n",
       "      <th>split</th>\n",
       "    </tr>\n",
       "  </thead>\n",
       "  <tbody>\n",
       "    <tr>\n",
       "      <th>710888</th>\n",
       "      <td>3836</td>\n",
       "      <td>644998</td>\n",
       "      <td>1.0</td>\n",
       "      <td>2015-12-26</td>\n",
       "      <td>Male</td>\n",
       "      <td>Accessories &amp; Supplies</td>\n",
       "      <td>NaN</td>\n",
       "      <td>2014</td>\n",
       "      <td>Female</td>\n",
       "      <td>0</td>\n",
       "    </tr>\n",
       "    <tr>\n",
       "      <th>303430</th>\n",
       "      <td>1451</td>\n",
       "      <td>283437</td>\n",
       "      <td>2.0</td>\n",
       "      <td>2014-08-02</td>\n",
       "      <td>Male</td>\n",
       "      <td>Headphones</td>\n",
       "      <td>NaN</td>\n",
       "      <td>2010</td>\n",
       "      <td>NaN</td>\n",
       "      <td>0</td>\n",
       "    </tr>\n",
       "    <tr>\n",
       "      <th>124840</th>\n",
       "      <td>2400</td>\n",
       "      <td>118477</td>\n",
       "      <td>5.0</td>\n",
       "      <td>2013-01-28</td>\n",
       "      <td>Female&amp;Male</td>\n",
       "      <td>Headphones</td>\n",
       "      <td>JLAB</td>\n",
       "      <td>2012</td>\n",
       "      <td>NaN</td>\n",
       "      <td>0</td>\n",
       "    </tr>\n",
       "    <tr>\n",
       "      <th>853527</th>\n",
       "      <td>6717</td>\n",
       "      <td>770422</td>\n",
       "      <td>5.0</td>\n",
       "      <td>2016-05-23</td>\n",
       "      <td>Male</td>\n",
       "      <td>Accessories &amp; Supplies</td>\n",
       "      <td>NaN</td>\n",
       "      <td>2015</td>\n",
       "      <td>NaN</td>\n",
       "      <td>0</td>\n",
       "    </tr>\n",
       "    <tr>\n",
       "      <th>1163982</th>\n",
       "      <td>3382</td>\n",
       "      <td>1043485</td>\n",
       "      <td>5.0</td>\n",
       "      <td>2017-09-05</td>\n",
       "      <td>Female</td>\n",
       "      <td>Portable Audio &amp; Video</td>\n",
       "      <td>NaN</td>\n",
       "      <td>2013</td>\n",
       "      <td>Female</td>\n",
       "      <td>0</td>\n",
       "    </tr>\n",
       "  </tbody>\n",
       "</table>\n",
       "</div>"
      ],
      "text/plain": [
       "         item_id  user_id  rating   timestamp   model_attr  \\\n",
       "710888      3836   644998     1.0  2015-12-26         Male   \n",
       "303430      1451   283437     2.0  2014-08-02         Male   \n",
       "124840      2400   118477     5.0  2013-01-28  Female&Male   \n",
       "853527      6717   770422     5.0  2016-05-23         Male   \n",
       "1163982     3382  1043485     5.0  2017-09-05       Female   \n",
       "\n",
       "                       category brand  year user_attr  split  \n",
       "710888   Accessories & Supplies   NaN  2014    Female      0  \n",
       "303430               Headphones   NaN  2010       NaN      0  \n",
       "124840               Headphones  JLAB  2012       NaN      0  \n",
       "853527   Accessories & Supplies   NaN  2015       NaN      0  \n",
       "1163982  Portable Audio & Video   NaN  2013    Female      0  "
      ]
     },
     "execution_count": 3,
     "metadata": {},
     "output_type": "execute_result"
    }
   ],
   "source": [
    "# viewing few random rows\n",
    "df.sample(5)"
   ]
  },
  {
   "cell_type": "markdown",
   "id": "c19a8944",
   "metadata": {},
   "source": [
    "## EDA\n",
    "##### Exploratory data analysis"
   ]
  },
  {
   "cell_type": "code",
   "execution_count": 4,
   "id": "ef32e87c",
   "metadata": {},
   "outputs": [
    {
     "name": "stdout",
     "output_type": "stream",
     "text": [
      "we have 1292954 rows and 10 columns\n"
     ]
    }
   ],
   "source": [
    "df.shape\n",
    "print(f\"we have {df.shape[0]} rows and {df.shape[-1]} columns\")"
   ]
  },
  {
   "cell_type": "code",
   "execution_count": 5,
   "id": "dc955f80",
   "metadata": {},
   "outputs": [
    {
     "data": {
      "text/plain": [
       "item_id         int64\n",
       "user_id         int64\n",
       "rating        float64\n",
       "timestamp      object\n",
       "model_attr     object\n",
       "category       object\n",
       "brand          object\n",
       "year            int64\n",
       "user_attr      object\n",
       "split           int64\n",
       "dtype: object"
      ]
     },
     "execution_count": 5,
     "metadata": {},
     "output_type": "execute_result"
    }
   ],
   "source": [
    "# corresponding data types\n",
    "df.dtypes\n",
    "# df.info()"
   ]
  },
  {
   "cell_type": "code",
   "execution_count": 6,
   "id": "48997030",
   "metadata": {},
   "outputs": [
    {
     "data": {
      "text/plain": [
       "item_id             0\n",
       "user_id             0\n",
       "rating              0\n",
       "timestamp           0\n",
       "model_attr          0\n",
       "category            0\n",
       "brand          961834\n",
       "year                0\n",
       "user_attr     1118830\n",
       "split               0\n",
       "dtype: int64"
      ]
     },
     "execution_count": 6,
     "metadata": {},
     "output_type": "execute_result"
    }
   ],
   "source": [
    "# checking for null values\n",
    "df.isna().sum()"
   ]
  },
  {
   "cell_type": "code",
   "execution_count": 7,
   "id": "fa685900",
   "metadata": {},
   "outputs": [
    {
     "data": {
      "text/plain": [
       "item_id             0\n",
       "user_id             0\n",
       "rating              0\n",
       "timestamp           0\n",
       "model_attr          0\n",
       "category            0\n",
       "brand          961834\n",
       "year                0\n",
       "user_attr     1118830\n",
       "split               0\n",
       "dtype: int64"
      ]
     },
     "execution_count": 7,
     "metadata": {},
     "output_type": "execute_result"
    }
   ],
   "source": [
    "df.isnull().sum()"
   ]
  },
  {
   "cell_type": "code",
   "execution_count": 8,
   "id": "811d899c",
   "metadata": {},
   "outputs": [],
   "source": [
    "df.dropna(subset='brand',inplace=True)"
   ]
  },
  {
   "cell_type": "code",
   "execution_count": 9,
   "id": "259080aa",
   "metadata": {},
   "outputs": [],
   "source": [
    "# dropping unnesscary columns\n",
    "df.drop(['split','year','user_attr'],axis=1,inplace=True)"
   ]
  },
  {
   "cell_type": "code",
   "execution_count": 10,
   "id": "54258f78",
   "metadata": {},
   "outputs": [
    {
     "data": {
      "text/plain": [
       "Index(['item_id', 'user_id', 'rating', 'timestamp', 'model_attr', 'category',\n",
       "       'brand'],\n",
       "      dtype='object')"
      ]
     },
     "execution_count": 10,
     "metadata": {},
     "output_type": "execute_result"
    }
   ],
   "source": [
    "df.columns"
   ]
  },
  {
   "cell_type": "code",
   "execution_count": 11,
   "id": "81a1b1b6",
   "metadata": {},
   "outputs": [
    {
     "data": {
      "text/plain": [
       "item_id         2207\n",
       "user_id       316699\n",
       "rating             5\n",
       "timestamp       6108\n",
       "model_attr         3\n",
       "category          10\n",
       "brand             50\n",
       "dtype: int64"
      ]
     },
     "execution_count": 11,
     "metadata": {},
     "output_type": "execute_result"
    }
   ],
   "source": [
    "df.nunique()"
   ]
  },
  {
   "cell_type": "code",
   "execution_count": 12,
   "id": "66ff03f5",
   "metadata": {},
   "outputs": [],
   "source": [
    "# df['model_attr'].unique()"
   ]
  },
  {
   "cell_type": "code",
   "execution_count": 13,
   "id": "c0a057ab",
   "metadata": {},
   "outputs": [
    {
     "data": {
      "text/html": [
       "<div>\n",
       "<style scoped>\n",
       "    .dataframe tbody tr th:only-of-type {\n",
       "        vertical-align: middle;\n",
       "    }\n",
       "\n",
       "    .dataframe tbody tr th {\n",
       "        vertical-align: top;\n",
       "    }\n",
       "\n",
       "    .dataframe thead th {\n",
       "        text-align: right;\n",
       "    }\n",
       "</style>\n",
       "<table border=\"1\" class=\"dataframe\">\n",
       "  <thead>\n",
       "    <tr style=\"text-align: right;\">\n",
       "      <th></th>\n",
       "      <th>item_id</th>\n",
       "      <th>user_id</th>\n",
       "      <th>rating</th>\n",
       "      <th>timestamp</th>\n",
       "      <th>model_attr</th>\n",
       "      <th>category</th>\n",
       "      <th>brand</th>\n",
       "    </tr>\n",
       "  </thead>\n",
       "  <tbody>\n",
       "    <tr>\n",
       "      <th>14</th>\n",
       "      <td>1</td>\n",
       "      <td>14</td>\n",
       "      <td>4.0</td>\n",
       "      <td>1999-10-17</td>\n",
       "      <td>Female</td>\n",
       "      <td>Computers &amp; Accessories</td>\n",
       "      <td>HP</td>\n",
       "    </tr>\n",
       "    <tr>\n",
       "      <th>42</th>\n",
       "      <td>1</td>\n",
       "      <td>42</td>\n",
       "      <td>5.0</td>\n",
       "      <td>1999-12-13</td>\n",
       "      <td>Female</td>\n",
       "      <td>Computers &amp; Accessories</td>\n",
       "      <td>HP</td>\n",
       "    </tr>\n",
       "    <tr>\n",
       "      <th>75</th>\n",
       "      <td>1</td>\n",
       "      <td>75</td>\n",
       "      <td>5.0</td>\n",
       "      <td>2000-03-22</td>\n",
       "      <td>Female</td>\n",
       "      <td>Computers &amp; Accessories</td>\n",
       "      <td>HP</td>\n",
       "    </tr>\n",
       "    <tr>\n",
       "      <th>76</th>\n",
       "      <td>1</td>\n",
       "      <td>76</td>\n",
       "      <td>5.0</td>\n",
       "      <td>2000-03-23</td>\n",
       "      <td>Female</td>\n",
       "      <td>Computers &amp; Accessories</td>\n",
       "      <td>HP</td>\n",
       "    </tr>\n",
       "    <tr>\n",
       "      <th>77</th>\n",
       "      <td>1</td>\n",
       "      <td>77</td>\n",
       "      <td>2.0</td>\n",
       "      <td>2000-03-25</td>\n",
       "      <td>Female</td>\n",
       "      <td>Computers &amp; Accessories</td>\n",
       "      <td>HP</td>\n",
       "    </tr>\n",
       "  </tbody>\n",
       "</table>\n",
       "</div>"
      ],
      "text/plain": [
       "    item_id  user_id  rating   timestamp model_attr                 category  \\\n",
       "14        1       14     4.0  1999-10-17     Female  Computers & Accessories   \n",
       "42        1       42     5.0  1999-12-13     Female  Computers & Accessories   \n",
       "75        1       75     5.0  2000-03-22     Female  Computers & Accessories   \n",
       "76        1       76     5.0  2000-03-23     Female  Computers & Accessories   \n",
       "77        1       77     2.0  2000-03-25     Female  Computers & Accessories   \n",
       "\n",
       "   brand  \n",
       "14    HP  \n",
       "42    HP  \n",
       "75    HP  \n",
       "76    HP  \n",
       "77    HP  "
      ]
     },
     "execution_count": 13,
     "metadata": {},
     "output_type": "execute_result"
    }
   ],
   "source": [
    "df.head()"
   ]
  },
  {
   "cell_type": "code",
   "execution_count": 14,
   "id": "f10a2bc2",
   "metadata": {},
   "outputs": [
    {
     "data": {
      "text/plain": [
       "Bose        29222\n",
       "Logitech    29203\n",
       "Sony        20360\n",
       "Mpow        17477\n",
       "EldHus      16530\n",
       "Name: brand, dtype: int64"
      ]
     },
     "execution_count": 14,
     "metadata": {},
     "output_type": "execute_result"
    }
   ],
   "source": [
    "df['brand'].value_counts()[:5]"
   ]
  },
  {
   "cell_type": "code",
   "execution_count": 15,
   "id": "c2fc467d",
   "metadata": {},
   "outputs": [
    {
     "data": {
      "text/plain": [
       "item_id         int64\n",
       "user_id         int64\n",
       "rating        float64\n",
       "timestamp      object\n",
       "model_attr     object\n",
       "category       object\n",
       "brand          object\n",
       "dtype: object"
      ]
     },
     "execution_count": 15,
     "metadata": {},
     "output_type": "execute_result"
    }
   ],
   "source": [
    "# data type conversion\n",
    "df.dtypes"
   ]
  },
  {
   "cell_type": "code",
   "execution_count": 16,
   "id": "fe2ade66",
   "metadata": {},
   "outputs": [],
   "source": [
    "# from datetime import datetime"
   ]
  },
  {
   "cell_type": "code",
   "execution_count": 17,
   "id": "652e2047",
   "metadata": {
    "scrolled": true
   },
   "outputs": [],
   "source": [
    "df['timestamp']=pd.to_datetime(df['timestamp'])"
   ]
  },
  {
   "cell_type": "code",
   "execution_count": 18,
   "id": "011570ce",
   "metadata": {},
   "outputs": [],
   "source": [
    "df['brand']=df['brand'].astype('str')"
   ]
  },
  {
   "cell_type": "code",
   "execution_count": 19,
   "id": "271fe9f6",
   "metadata": {},
   "outputs": [
    {
     "data": {
      "text/plain": [
       "item_id                int64\n",
       "user_id                int64\n",
       "rating               float64\n",
       "timestamp     datetime64[ns]\n",
       "model_attr            object\n",
       "category              object\n",
       "brand                 object\n",
       "dtype: object"
      ]
     },
     "execution_count": 19,
     "metadata": {},
     "output_type": "execute_result"
    }
   ],
   "source": [
    "df.dtypes"
   ]
  },
  {
   "cell_type": "code",
   "execution_count": 20,
   "id": "4dd063dd",
   "metadata": {},
   "outputs": [
    {
     "data": {
      "text/html": [
       "<div>\n",
       "<style scoped>\n",
       "    .dataframe tbody tr th:only-of-type {\n",
       "        vertical-align: middle;\n",
       "    }\n",
       "\n",
       "    .dataframe tbody tr th {\n",
       "        vertical-align: top;\n",
       "    }\n",
       "\n",
       "    .dataframe thead th {\n",
       "        text-align: right;\n",
       "    }\n",
       "</style>\n",
       "<table border=\"1\" class=\"dataframe\">\n",
       "  <thead>\n",
       "    <tr style=\"text-align: right;\">\n",
       "      <th></th>\n",
       "      <th>item_id</th>\n",
       "      <th>user_id</th>\n",
       "      <th>rating</th>\n",
       "    </tr>\n",
       "  </thead>\n",
       "  <tbody>\n",
       "    <tr>\n",
       "      <th>count</th>\n",
       "      <td>331120.000000</td>\n",
       "      <td>3.311200e+05</td>\n",
       "      <td>331120.000000</td>\n",
       "    </tr>\n",
       "    <tr>\n",
       "      <th>mean</th>\n",
       "      <td>3407.677446</td>\n",
       "      <td>5.094713e+05</td>\n",
       "      <td>4.052428</td>\n",
       "    </tr>\n",
       "    <tr>\n",
       "      <th>std</th>\n",
       "      <td>2513.781590</td>\n",
       "      <td>3.520852e+05</td>\n",
       "      <td>1.367006</td>\n",
       "    </tr>\n",
       "    <tr>\n",
       "      <th>min</th>\n",
       "      <td>1.000000</td>\n",
       "      <td>1.400000e+01</td>\n",
       "      <td>1.000000</td>\n",
       "    </tr>\n",
       "    <tr>\n",
       "      <th>25%</th>\n",
       "      <td>1423.000000</td>\n",
       "      <td>1.908870e+05</td>\n",
       "      <td>4.000000</td>\n",
       "    </tr>\n",
       "    <tr>\n",
       "      <th>50%</th>\n",
       "      <td>2728.000000</td>\n",
       "      <td>4.736845e+05</td>\n",
       "      <td>5.000000</td>\n",
       "    </tr>\n",
       "    <tr>\n",
       "      <th>75%</th>\n",
       "      <td>5178.000000</td>\n",
       "      <td>8.183392e+05</td>\n",
       "      <td>5.000000</td>\n",
       "    </tr>\n",
       "    <tr>\n",
       "      <th>max</th>\n",
       "      <td>9556.000000</td>\n",
       "      <td>1.157632e+06</td>\n",
       "      <td>5.000000</td>\n",
       "    </tr>\n",
       "  </tbody>\n",
       "</table>\n",
       "</div>"
      ],
      "text/plain": [
       "             item_id       user_id         rating\n",
       "count  331120.000000  3.311200e+05  331120.000000\n",
       "mean     3407.677446  5.094713e+05       4.052428\n",
       "std      2513.781590  3.520852e+05       1.367006\n",
       "min         1.000000  1.400000e+01       1.000000\n",
       "25%      1423.000000  1.908870e+05       4.000000\n",
       "50%      2728.000000  4.736845e+05       5.000000\n",
       "75%      5178.000000  8.183392e+05       5.000000\n",
       "max      9556.000000  1.157632e+06       5.000000"
      ]
     },
     "execution_count": 20,
     "metadata": {},
     "output_type": "execute_result"
    }
   ],
   "source": [
    "df.describe()"
   ]
  },
  {
   "cell_type": "markdown",
   "id": "aef62664",
   "metadata": {},
   "source": [
    "# Data Visualizaton"
   ]
  },
  {
   "cell_type": "code",
   "execution_count": 21,
   "id": "89fe3f28",
   "metadata": {},
   "outputs": [
    {
     "data": {
      "text/plain": [
       "5.0    191386\n",
       "4.0     57318\n",
       "1.0     35521\n",
       "3.0     26327\n",
       "2.0     20568\n",
       "Name: rating, dtype: int64"
      ]
     },
     "execution_count": 21,
     "metadata": {},
     "output_type": "execute_result"
    }
   ],
   "source": [
    "# the distribution of ratings\n",
    "df['rating'].value_counts()"
   ]
  },
  {
   "cell_type": "code",
   "execution_count": 22,
   "id": "2b859294",
   "metadata": {},
   "outputs": [
    {
     "name": "stdout",
     "output_type": "stream",
     "text": [
      "the electronics with five star ratings has the highest rating with 191386 and two star is the lowest with 20568\n"
     ]
    }
   ],
   "source": [
    "print(f\"the electronics with five star ratings has the highest rating with {df['rating'].value_counts()[5]} and two star is the lowest with {df['rating'].value_counts()[2]}\")"
   ]
  },
  {
   "cell_type": "code",
   "execution_count": 23,
   "id": "6dfda274",
   "metadata": {},
   "outputs": [
    {
     "data": {
      "text/plain": [
       "<Axes: >"
      ]
     },
     "execution_count": 23,
     "metadata": {},
     "output_type": "execute_result"
    },
    {
     "data": {
      "image/png": "[encoded data removed]",
      "text/plain": [
       "<Figure size 640x480 with 1 Axes>"
      ]
     },
     "metadata": {},
     "output_type": "display_data"
    }
   ],
   "source": [
    "df['rating'].value_counts().plot(kind='bar')"
   ]
  },
  {
   "cell_type": "code",
   "execution_count": 24,
   "id": "c14247c4",
   "metadata": {},
   "outputs": [
    {
     "data": {
      "text/plain": [
       "<Axes: xlabel='rating', ylabel='count'>"
      ]
     },
     "execution_count": 24,
     "metadata": {},
     "output_type": "execute_result"
    },
    {
     "data": {
      "image/png": "[encoded data removed]",
      "text/plain": [
       "<Figure size 640x480 with 1 Axes>"
      ]
     },
     "metadata": {},
     "output_type": "display_data"
    }
   ],
   "source": [
    "sns.countplot(data=df,x='rating')"
   ]
  },
  {
   "cell_type": "markdown",
   "id": "dde45ca2",
   "metadata": {},
   "source": [
    "#### what was the best year of sales"
   ]
  },
  {
   "cell_type": "code",
   "execution_count": 25,
   "id": "32a31546",
   "metadata": {},
   "outputs": [
    {
     "data": {
      "text/html": [
       "<div>\n",
       "<style scoped>\n",
       "    .dataframe tbody tr th:only-of-type {\n",
       "        vertical-align: middle;\n",
       "    }\n",
       "\n",
       "    .dataframe tbody tr th {\n",
       "        vertical-align: top;\n",
       "    }\n",
       "\n",
       "    .dataframe thead th {\n",
       "        text-align: right;\n",
       "    }\n",
       "</style>\n",
       "<table border=\"1\" class=\"dataframe\">\n",
       "  <thead>\n",
       "    <tr style=\"text-align: right;\">\n",
       "      <th></th>\n",
       "      <th>item_id</th>\n",
       "      <th>user_id</th>\n",
       "      <th>rating</th>\n",
       "      <th>timestamp</th>\n",
       "      <th>model_attr</th>\n",
       "      <th>category</th>\n",
       "      <th>brand</th>\n",
       "      <th>year</th>\n",
       "    </tr>\n",
       "  </thead>\n",
       "  <tbody>\n",
       "    <tr>\n",
       "      <th>424385</th>\n",
       "      <td>4398</td>\n",
       "      <td>391499</td>\n",
       "      <td>1.0</td>\n",
       "      <td>2015-01-31</td>\n",
       "      <td>Male</td>\n",
       "      <td>Computers &amp; Accessories</td>\n",
       "      <td>IRULU</td>\n",
       "      <td>2015</td>\n",
       "    </tr>\n",
       "  </tbody>\n",
       "</table>\n",
       "</div>"
      ],
      "text/plain": [
       "        item_id  user_id  rating  timestamp model_attr  \\\n",
       "424385     4398   391499     1.0 2015-01-31       Male   \n",
       "\n",
       "                       category  brand  year  \n",
       "424385  Computers & Accessories  IRULU  2015  "
      ]
     },
     "execution_count": 25,
     "metadata": {},
     "output_type": "execute_result"
    }
   ],
   "source": [
    "\n",
    "df['year']=df['timestamp'].dt.year\n",
    "df.sample()"
   ]
  },
  {
   "cell_type": "code",
   "execution_count": 30,
   "id": "c65a956b",
   "metadata": {},
   "outputs": [
    {
     "data": {
      "text/plain": [
       "<Axes: >"
      ]
     },
     "execution_count": 30,
     "metadata": {},
     "output_type": "execute_result"
    },
    {
     "data": {
      "image/png": "[encoded data removed]",
      "text/plain": [
       "<Figure size 640x480 with 1 Axes>"
      ]
     },
     "metadata": {},
     "output_type": "display_data"
    }
   ],
   "source": [
    "# first extract the year from the timestamp\n",
    "df['year'].value_counts().plot(kind='bar')"
   ]
  },
  {
   "cell_type": "code",
   "execution_count": 31,
   "id": "6698ff39",
   "metadata": {},
   "outputs": [
    {
     "data": {
      "image/png": "[encoded data removed]",
      "text/plain": [
       "<Figure size 1600x600 with 1 Axes>"
      ]
     },
     "metadata": {},
     "output_type": "display_data"
    }
   ],
   "source": [
    "plt.figure(figsize=(16,6))\n",
    "sns.countplot(data=df,x='year')\n",
    "plt.xticks(rotation='vertical')\n",
    "plt.show()"
   ]
  },
  {
   "cell_type": "markdown",
   "id": "3aee139c",
   "metadata": {},
   "source": [
    "#### what was the best month of sales"
   ]
  },
  {
   "cell_type": "code",
   "execution_count": 28,
   "id": "6d2b8341",
   "metadata": {},
   "outputs": [
    {
     "data": {
      "text/html": [
       "<div>\n",
       "<style scoped>\n",
       "    .dataframe tbody tr th:only-of-type {\n",
       "        vertical-align: middle;\n",
       "    }\n",
       "\n",
       "    .dataframe tbody tr th {\n",
       "        vertical-align: top;\n",
       "    }\n",
       "\n",
       "    .dataframe thead th {\n",
       "        text-align: right;\n",
       "    }\n",
       "</style>\n",
       "<table border=\"1\" class=\"dataframe\">\n",
       "  <thead>\n",
       "    <tr style=\"text-align: right;\">\n",
       "      <th></th>\n",
       "      <th>item_id</th>\n",
       "      <th>user_id</th>\n",
       "      <th>rating</th>\n",
       "      <th>timestamp</th>\n",
       "      <th>model_attr</th>\n",
       "      <th>category</th>\n",
       "      <th>brand</th>\n",
       "      <th>year</th>\n",
       "      <th>month</th>\n",
       "    </tr>\n",
       "  </thead>\n",
       "  <tbody>\n",
       "    <tr>\n",
       "      <th>1017409</th>\n",
       "      <td>5430</td>\n",
       "      <td>730699</td>\n",
       "      <td>5.0</td>\n",
       "      <td>2016-12-29</td>\n",
       "      <td>Female&amp;Male</td>\n",
       "      <td>Portable Audio &amp; Video</td>\n",
       "      <td>Pyle</td>\n",
       "      <td>2016</td>\n",
       "      <td>12</td>\n",
       "    </tr>\n",
       "  </tbody>\n",
       "</table>\n",
       "</div>"
      ],
      "text/plain": [
       "         item_id  user_id  rating  timestamp   model_attr  \\\n",
       "1017409     5430   730699     5.0 2016-12-29  Female&Male   \n",
       "\n",
       "                       category brand  year  month  \n",
       "1017409  Portable Audio & Video  Pyle  2016     12  "
      ]
     },
     "execution_count": 28,
     "metadata": {},
     "output_type": "execute_result"
    }
   ],
   "source": [
    "# EXTRACTING MONTH FROM THE TIMESTAMP\n",
    "\n",
    "df['month']=df['timestamp'].dt.month\n",
    "df.sample()"
   ]
  },
  {
   "cell_type": "code",
   "execution_count": 29,
   "id": "2d2180ea",
   "metadata": {
    "scrolled": true
   },
   "outputs": [
    {
     "data": {
      "text/plain": [
       "<Axes: >"
      ]
     },
     "execution_count": 29,
     "metadata": {},
     "output_type": "execute_result"
    },
    {
     "data": {
      "image/png": "[encoded data removed]",
      "text/plain": [
       "<Figure size 640x480 with 1 Axes>"
      ]
     },
     "metadata": {},
     "output_type": "display_data"
    }
   ],
   "source": [
    "df['month'].value_counts().plot(kind='bar')"
   ]
  },
  {
   "cell_type": "markdown",
   "id": "9b6c9d31",
   "metadata": {},
   "source": [
    "##### What products by category were sold the most in January"
   ]
  },
  {
   "cell_type": "code",
   "execution_count": 29,
   "id": "3a756b75",
   "metadata": {
    "scrolled": true
   },
   "outputs": [
    {
     "data": {
      "image/png": "[encoded data removed]",
      "text/plain": [
       "<Figure size 640x480 with 1 Axes>"
      ]
     },
     "metadata": {},
     "output_type": "display_data"
    }
   ],
   "source": [
    "\n",
    "sns.countplot(data=df[df['month']==1],x='category',order=df['category'].value_counts().index)\n",
    "plt.xticks(rotation=90)\n",
    "plt.show()"
   ]
  },
  {
   "cell_type": "code",
   "execution_count": 30,
   "id": "c2960e6d",
   "metadata": {},
   "outputs": [
    {
     "data": {
      "text/html": [
       "<div>\n",
       "<style scoped>\n",
       "    .dataframe tbody tr th:only-of-type {\n",
       "        vertical-align: middle;\n",
       "    }\n",
       "\n",
       "    .dataframe tbody tr th {\n",
       "        vertical-align: top;\n",
       "    }\n",
       "\n",
       "    .dataframe thead th {\n",
       "        text-align: right;\n",
       "    }\n",
       "</style>\n",
       "<table border=\"1\" class=\"dataframe\">\n",
       "  <thead>\n",
       "    <tr style=\"text-align: right;\">\n",
       "      <th></th>\n",
       "      <th>item_id</th>\n",
       "      <th>user_id</th>\n",
       "      <th>rating</th>\n",
       "      <th>timestamp</th>\n",
       "      <th>model_attr</th>\n",
       "      <th>category</th>\n",
       "      <th>brand</th>\n",
       "      <th>year</th>\n",
       "      <th>month</th>\n",
       "    </tr>\n",
       "  </thead>\n",
       "  <tbody>\n",
       "    <tr>\n",
       "      <th>0</th>\n",
       "      <td>0</td>\n",
       "      <td>0</td>\n",
       "      <td>5.0</td>\n",
       "      <td>1999-06-13</td>\n",
       "      <td>Female</td>\n",
       "      <td>Portable Audio &amp; Video</td>\n",
       "      <td>nan</td>\n",
       "      <td>1999</td>\n",
       "      <td>6</td>\n",
       "    </tr>\n",
       "    <tr>\n",
       "      <th>1</th>\n",
       "      <td>0</td>\n",
       "      <td>1</td>\n",
       "      <td>5.0</td>\n",
       "      <td>1999-06-14</td>\n",
       "      <td>Female</td>\n",
       "      <td>Portable Audio &amp; Video</td>\n",
       "      <td>nan</td>\n",
       "      <td>1999</td>\n",
       "      <td>6</td>\n",
       "    </tr>\n",
       "    <tr>\n",
       "      <th>2</th>\n",
       "      <td>0</td>\n",
       "      <td>2</td>\n",
       "      <td>3.0</td>\n",
       "      <td>1999-06-17</td>\n",
       "      <td>Female</td>\n",
       "      <td>Portable Audio &amp; Video</td>\n",
       "      <td>nan</td>\n",
       "      <td>1999</td>\n",
       "      <td>6</td>\n",
       "    </tr>\n",
       "    <tr>\n",
       "      <th>3</th>\n",
       "      <td>0</td>\n",
       "      <td>3</td>\n",
       "      <td>1.0</td>\n",
       "      <td>1999-07-01</td>\n",
       "      <td>Female</td>\n",
       "      <td>Portable Audio &amp; Video</td>\n",
       "      <td>nan</td>\n",
       "      <td>1999</td>\n",
       "      <td>7</td>\n",
       "    </tr>\n",
       "    <tr>\n",
       "      <th>4</th>\n",
       "      <td>0</td>\n",
       "      <td>4</td>\n",
       "      <td>2.0</td>\n",
       "      <td>1999-07-06</td>\n",
       "      <td>Female</td>\n",
       "      <td>Portable Audio &amp; Video</td>\n",
       "      <td>nan</td>\n",
       "      <td>1999</td>\n",
       "      <td>7</td>\n",
       "    </tr>\n",
       "    <tr>\n",
       "      <th>...</th>\n",
       "      <td>...</td>\n",
       "      <td>...</td>\n",
       "      <td>...</td>\n",
       "      <td>...</td>\n",
       "      <td>...</td>\n",
       "      <td>...</td>\n",
       "      <td>...</td>\n",
       "      <td>...</td>\n",
       "      <td>...</td>\n",
       "    </tr>\n",
       "    <tr>\n",
       "      <th>1292949</th>\n",
       "      <td>9478</td>\n",
       "      <td>1157628</td>\n",
       "      <td>1.0</td>\n",
       "      <td>2018-09-26</td>\n",
       "      <td>Female</td>\n",
       "      <td>Headphones</td>\n",
       "      <td>Etre Jeune</td>\n",
       "      <td>2018</td>\n",
       "      <td>9</td>\n",
       "    </tr>\n",
       "    <tr>\n",
       "      <th>1292950</th>\n",
       "      <td>9435</td>\n",
       "      <td>1157629</td>\n",
       "      <td>5.0</td>\n",
       "      <td>2018-09-26</td>\n",
       "      <td>Female</td>\n",
       "      <td>Computers &amp; Accessories</td>\n",
       "      <td>nan</td>\n",
       "      <td>2018</td>\n",
       "      <td>9</td>\n",
       "    </tr>\n",
       "    <tr>\n",
       "      <th>1292951</th>\n",
       "      <td>9305</td>\n",
       "      <td>1157630</td>\n",
       "      <td>3.0</td>\n",
       "      <td>2018-09-26</td>\n",
       "      <td>Female</td>\n",
       "      <td>Computers &amp; Accessories</td>\n",
       "      <td>nan</td>\n",
       "      <td>2018</td>\n",
       "      <td>9</td>\n",
       "    </tr>\n",
       "    <tr>\n",
       "      <th>1292952</th>\n",
       "      <td>9303</td>\n",
       "      <td>1157631</td>\n",
       "      <td>5.0</td>\n",
       "      <td>2018-09-29</td>\n",
       "      <td>Male</td>\n",
       "      <td>Headphones</td>\n",
       "      <td>nan</td>\n",
       "      <td>2018</td>\n",
       "      <td>9</td>\n",
       "    </tr>\n",
       "    <tr>\n",
       "      <th>1292953</th>\n",
       "      <td>9478</td>\n",
       "      <td>1157632</td>\n",
       "      <td>1.0</td>\n",
       "      <td>2018-10-01</td>\n",
       "      <td>Female</td>\n",
       "      <td>Headphones</td>\n",
       "      <td>Etre Jeune</td>\n",
       "      <td>2018</td>\n",
       "      <td>10</td>\n",
       "    </tr>\n",
       "  </tbody>\n",
       "</table>\n",
       "<p>1292954 rows × 9 columns</p>\n",
       "</div>"
      ],
      "text/plain": [
       "         item_id  user_id  rating  timestamp model_attr  \\\n",
       "0              0        0     5.0 1999-06-13     Female   \n",
       "1              0        1     5.0 1999-06-14     Female   \n",
       "2              0        2     3.0 1999-06-17     Female   \n",
       "3              0        3     1.0 1999-07-01     Female   \n",
       "4              0        4     2.0 1999-07-06     Female   \n",
       "...          ...      ...     ...        ...        ...   \n",
       "1292949     9478  1157628     1.0 2018-09-26     Female   \n",
       "1292950     9435  1157629     5.0 2018-09-26     Female   \n",
       "1292951     9305  1157630     3.0 2018-09-26     Female   \n",
       "1292952     9303  1157631     5.0 2018-09-29       Male   \n",
       "1292953     9478  1157632     1.0 2018-10-01     Female   \n",
       "\n",
       "                        category       brand  year  month  \n",
       "0         Portable Audio & Video         nan  1999      6  \n",
       "1         Portable Audio & Video         nan  1999      6  \n",
       "2         Portable Audio & Video         nan  1999      6  \n",
       "3         Portable Audio & Video         nan  1999      7  \n",
       "4         Portable Audio & Video         nan  1999      7  \n",
       "...                          ...         ...   ...    ...  \n",
       "1292949               Headphones  Etre Jeune  2018      9  \n",
       "1292950  Computers & Accessories         nan  2018      9  \n",
       "1292951  Computers & Accessories         nan  2018      9  \n",
       "1292952               Headphones         nan  2018      9  \n",
       "1292953               Headphones  Etre Jeune  2018     10  \n",
       "\n",
       "[1292954 rows x 9 columns]"
      ]
     },
     "execution_count": 30,
     "metadata": {},
     "output_type": "execute_result"
    }
   ],
   "source": [
    "df"
   ]
  },
  {
   "cell_type": "code",
   "execution_count": 31,
   "id": "bc38af6c",
   "metadata": {},
   "outputs": [],
   "source": [
    "df['brand'].dropna(inplace=True)"
   ]
  },
  {
   "cell_type": "code",
   "execution_count": 32,
   "id": "b5dd8f52",
   "metadata": {},
   "outputs": [],
   "source": [
    "df.dropna(subset='brand',inplace=True)"
   ]
  },
  {
   "cell_type": "code",
   "execution_count": 33,
   "id": "6ff7bbbd",
   "metadata": {},
   "outputs": [
    {
     "data": {
      "text/html": [
       "<div>\n",
       "<style scoped>\n",
       "    .dataframe tbody tr th:only-of-type {\n",
       "        vertical-align: middle;\n",
       "    }\n",
       "\n",
       "    .dataframe tbody tr th {\n",
       "        vertical-align: top;\n",
       "    }\n",
       "\n",
       "    .dataframe thead th {\n",
       "        text-align: right;\n",
       "    }\n",
       "</style>\n",
       "<table border=\"1\" class=\"dataframe\">\n",
       "  <thead>\n",
       "    <tr style=\"text-align: right;\">\n",
       "      <th></th>\n",
       "      <th>item_id</th>\n",
       "      <th>user_id</th>\n",
       "      <th>rating</th>\n",
       "      <th>timestamp</th>\n",
       "      <th>model_attr</th>\n",
       "      <th>category</th>\n",
       "      <th>brand</th>\n",
       "      <th>year</th>\n",
       "      <th>month</th>\n",
       "    </tr>\n",
       "  </thead>\n",
       "  <tbody>\n",
       "    <tr>\n",
       "      <th>0</th>\n",
       "      <td>0</td>\n",
       "      <td>0</td>\n",
       "      <td>5.0</td>\n",
       "      <td>1999-06-13</td>\n",
       "      <td>Female</td>\n",
       "      <td>Portable Audio &amp; Video</td>\n",
       "      <td>nan</td>\n",
       "      <td>1999</td>\n",
       "      <td>6</td>\n",
       "    </tr>\n",
       "    <tr>\n",
       "      <th>1</th>\n",
       "      <td>0</td>\n",
       "      <td>1</td>\n",
       "      <td>5.0</td>\n",
       "      <td>1999-06-14</td>\n",
       "      <td>Female</td>\n",
       "      <td>Portable Audio &amp; Video</td>\n",
       "      <td>nan</td>\n",
       "      <td>1999</td>\n",
       "      <td>6</td>\n",
       "    </tr>\n",
       "    <tr>\n",
       "      <th>2</th>\n",
       "      <td>0</td>\n",
       "      <td>2</td>\n",
       "      <td>3.0</td>\n",
       "      <td>1999-06-17</td>\n",
       "      <td>Female</td>\n",
       "      <td>Portable Audio &amp; Video</td>\n",
       "      <td>nan</td>\n",
       "      <td>1999</td>\n",
       "      <td>6</td>\n",
       "    </tr>\n",
       "    <tr>\n",
       "      <th>3</th>\n",
       "      <td>0</td>\n",
       "      <td>3</td>\n",
       "      <td>1.0</td>\n",
       "      <td>1999-07-01</td>\n",
       "      <td>Female</td>\n",
       "      <td>Portable Audio &amp; Video</td>\n",
       "      <td>nan</td>\n",
       "      <td>1999</td>\n",
       "      <td>7</td>\n",
       "    </tr>\n",
       "    <tr>\n",
       "      <th>4</th>\n",
       "      <td>0</td>\n",
       "      <td>4</td>\n",
       "      <td>2.0</td>\n",
       "      <td>1999-07-06</td>\n",
       "      <td>Female</td>\n",
       "      <td>Portable Audio &amp; Video</td>\n",
       "      <td>nan</td>\n",
       "      <td>1999</td>\n",
       "      <td>7</td>\n",
       "    </tr>\n",
       "    <tr>\n",
       "      <th>...</th>\n",
       "      <td>...</td>\n",
       "      <td>...</td>\n",
       "      <td>...</td>\n",
       "      <td>...</td>\n",
       "      <td>...</td>\n",
       "      <td>...</td>\n",
       "      <td>...</td>\n",
       "      <td>...</td>\n",
       "      <td>...</td>\n",
       "    </tr>\n",
       "    <tr>\n",
       "      <th>1292949</th>\n",
       "      <td>9478</td>\n",
       "      <td>1157628</td>\n",
       "      <td>1.0</td>\n",
       "      <td>2018-09-26</td>\n",
       "      <td>Female</td>\n",
       "      <td>Headphones</td>\n",
       "      <td>Etre Jeune</td>\n",
       "      <td>2018</td>\n",
       "      <td>9</td>\n",
       "    </tr>\n",
       "    <tr>\n",
       "      <th>1292950</th>\n",
       "      <td>9435</td>\n",
       "      <td>1157629</td>\n",
       "      <td>5.0</td>\n",
       "      <td>2018-09-26</td>\n",
       "      <td>Female</td>\n",
       "      <td>Computers &amp; Accessories</td>\n",
       "      <td>nan</td>\n",
       "      <td>2018</td>\n",
       "      <td>9</td>\n",
       "    </tr>\n",
       "    <tr>\n",
       "      <th>1292951</th>\n",
       "      <td>9305</td>\n",
       "      <td>1157630</td>\n",
       "      <td>3.0</td>\n",
       "      <td>2018-09-26</td>\n",
       "      <td>Female</td>\n",
       "      <td>Computers &amp; Accessories</td>\n",
       "      <td>nan</td>\n",
       "      <td>2018</td>\n",
       "      <td>9</td>\n",
       "    </tr>\n",
       "    <tr>\n",
       "      <th>1292952</th>\n",
       "      <td>9303</td>\n",
       "      <td>1157631</td>\n",
       "      <td>5.0</td>\n",
       "      <td>2018-09-29</td>\n",
       "      <td>Male</td>\n",
       "      <td>Headphones</td>\n",
       "      <td>nan</td>\n",
       "      <td>2018</td>\n",
       "      <td>9</td>\n",
       "    </tr>\n",
       "    <tr>\n",
       "      <th>1292953</th>\n",
       "      <td>9478</td>\n",
       "      <td>1157632</td>\n",
       "      <td>1.0</td>\n",
       "      <td>2018-10-01</td>\n",
       "      <td>Female</td>\n",
       "      <td>Headphones</td>\n",
       "      <td>Etre Jeune</td>\n",
       "      <td>2018</td>\n",
       "      <td>10</td>\n",
       "    </tr>\n",
       "  </tbody>\n",
       "</table>\n",
       "<p>1292954 rows × 9 columns</p>\n",
       "</div>"
      ],
      "text/plain": [
       "         item_id  user_id  rating  timestamp model_attr  \\\n",
       "0              0        0     5.0 1999-06-13     Female   \n",
       "1              0        1     5.0 1999-06-14     Female   \n",
       "2              0        2     3.0 1999-06-17     Female   \n",
       "3              0        3     1.0 1999-07-01     Female   \n",
       "4              0        4     2.0 1999-07-06     Female   \n",
       "...          ...      ...     ...        ...        ...   \n",
       "1292949     9478  1157628     1.0 2018-09-26     Female   \n",
       "1292950     9435  1157629     5.0 2018-09-26     Female   \n",
       "1292951     9305  1157630     3.0 2018-09-26     Female   \n",
       "1292952     9303  1157631     5.0 2018-09-29       Male   \n",
       "1292953     9478  1157632     1.0 2018-10-01     Female   \n",
       "\n",
       "                        category       brand  year  month  \n",
       "0         Portable Audio & Video         nan  1999      6  \n",
       "1         Portable Audio & Video         nan  1999      6  \n",
       "2         Portable Audio & Video         nan  1999      6  \n",
       "3         Portable Audio & Video         nan  1999      7  \n",
       "4         Portable Audio & Video         nan  1999      7  \n",
       "...                          ...         ...   ...    ...  \n",
       "1292949               Headphones  Etre Jeune  2018      9  \n",
       "1292950  Computers & Accessories         nan  2018      9  \n",
       "1292951  Computers & Accessories         nan  2018      9  \n",
       "1292952               Headphones         nan  2018      9  \n",
       "1292953               Headphones  Etre Jeune  2018     10  \n",
       "\n",
       "[1292954 rows x 9 columns]"
      ]
     },
     "execution_count": 33,
     "metadata": {},
     "output_type": "execute_result"
    }
   ],
   "source": [
    "df"
   ]
  },
  {
   "cell_type": "code",
   "execution_count": 34,
   "id": "539041be",
   "metadata": {
    "scrolled": true
   },
   "outputs": [
    {
     "data": {
      "text/plain": [
       "<Axes: xlabel='brand'>"
      ]
     },
     "execution_count": 34,
     "metadata": {},
     "output_type": "execute_result"
    },
    {
     "data": {
      "image/png": "[encoded data removed]",
      "text/plain": [
       "<Figure size 640x480 with 1 Axes>"
      ]
     },
     "metadata": {},
     "output_type": "display_data"
    }
   ],
   "source": [
    "# what brand sold the most in 2015\n",
    "year_2015=df[df['year']==2015]\n",
    "year_2015.groupby(df['brand'])['rating'].count().sort_values(ascending=False)[:9].plot(kind='bar')"
   ]
  },
  {
   "cell_type": "code",
   "execution_count": 35,
   "id": "59d0ab66",
   "metadata": {},
   "outputs": [
    {
     "data": {
      "text/html": [
       "<div>\n",
       "<style scoped>\n",
       "    .dataframe tbody tr th:only-of-type {\n",
       "        vertical-align: middle;\n",
       "    }\n",
       "\n",
       "    .dataframe tbody tr th {\n",
       "        vertical-align: top;\n",
       "    }\n",
       "\n",
       "    .dataframe thead th {\n",
       "        text-align: right;\n",
       "    }\n",
       "</style>\n",
       "<table border=\"1\" class=\"dataframe\">\n",
       "  <thead>\n",
       "    <tr style=\"text-align: right;\">\n",
       "      <th></th>\n",
       "      <th>item_id</th>\n",
       "      <th>user_id</th>\n",
       "      <th>rating</th>\n",
       "      <th>timestamp</th>\n",
       "      <th>model_attr</th>\n",
       "      <th>category</th>\n",
       "      <th>brand</th>\n",
       "      <th>year</th>\n",
       "      <th>month</th>\n",
       "    </tr>\n",
       "  </thead>\n",
       "  <tbody>\n",
       "    <tr>\n",
       "      <th>0</th>\n",
       "      <td>0</td>\n",
       "      <td>0</td>\n",
       "      <td>5.0</td>\n",
       "      <td>1999-06-13</td>\n",
       "      <td>Female</td>\n",
       "      <td>Portable Audio &amp; Video</td>\n",
       "      <td>nan</td>\n",
       "      <td>1999</td>\n",
       "      <td>6</td>\n",
       "    </tr>\n",
       "    <tr>\n",
       "      <th>1</th>\n",
       "      <td>0</td>\n",
       "      <td>1</td>\n",
       "      <td>5.0</td>\n",
       "      <td>1999-06-14</td>\n",
       "      <td>Female</td>\n",
       "      <td>Portable Audio &amp; Video</td>\n",
       "      <td>nan</td>\n",
       "      <td>1999</td>\n",
       "      <td>6</td>\n",
       "    </tr>\n",
       "    <tr>\n",
       "      <th>2</th>\n",
       "      <td>0</td>\n",
       "      <td>2</td>\n",
       "      <td>3.0</td>\n",
       "      <td>1999-06-17</td>\n",
       "      <td>Female</td>\n",
       "      <td>Portable Audio &amp; Video</td>\n",
       "      <td>nan</td>\n",
       "      <td>1999</td>\n",
       "      <td>6</td>\n",
       "    </tr>\n",
       "    <tr>\n",
       "      <th>3</th>\n",
       "      <td>0</td>\n",
       "      <td>3</td>\n",
       "      <td>1.0</td>\n",
       "      <td>1999-07-01</td>\n",
       "      <td>Female</td>\n",
       "      <td>Portable Audio &amp; Video</td>\n",
       "      <td>nan</td>\n",
       "      <td>1999</td>\n",
       "      <td>7</td>\n",
       "    </tr>\n",
       "    <tr>\n",
       "      <th>4</th>\n",
       "      <td>0</td>\n",
       "      <td>4</td>\n",
       "      <td>2.0</td>\n",
       "      <td>1999-07-06</td>\n",
       "      <td>Female</td>\n",
       "      <td>Portable Audio &amp; Video</td>\n",
       "      <td>nan</td>\n",
       "      <td>1999</td>\n",
       "      <td>7</td>\n",
       "    </tr>\n",
       "    <tr>\n",
       "      <th>...</th>\n",
       "      <td>...</td>\n",
       "      <td>...</td>\n",
       "      <td>...</td>\n",
       "      <td>...</td>\n",
       "      <td>...</td>\n",
       "      <td>...</td>\n",
       "      <td>...</td>\n",
       "      <td>...</td>\n",
       "      <td>...</td>\n",
       "    </tr>\n",
       "    <tr>\n",
       "      <th>1292949</th>\n",
       "      <td>9478</td>\n",
       "      <td>1157628</td>\n",
       "      <td>1.0</td>\n",
       "      <td>2018-09-26</td>\n",
       "      <td>Female</td>\n",
       "      <td>Headphones</td>\n",
       "      <td>Etre Jeune</td>\n",
       "      <td>2018</td>\n",
       "      <td>9</td>\n",
       "    </tr>\n",
       "    <tr>\n",
       "      <th>1292950</th>\n",
       "      <td>9435</td>\n",
       "      <td>1157629</td>\n",
       "      <td>5.0</td>\n",
       "      <td>2018-09-26</td>\n",
       "      <td>Female</td>\n",
       "      <td>Computers &amp; Accessories</td>\n",
       "      <td>nan</td>\n",
       "      <td>2018</td>\n",
       "      <td>9</td>\n",
       "    </tr>\n",
       "    <tr>\n",
       "      <th>1292951</th>\n",
       "      <td>9305</td>\n",
       "      <td>1157630</td>\n",
       "      <td>3.0</td>\n",
       "      <td>2018-09-26</td>\n",
       "      <td>Female</td>\n",
       "      <td>Computers &amp; Accessories</td>\n",
       "      <td>nan</td>\n",
       "      <td>2018</td>\n",
       "      <td>9</td>\n",
       "    </tr>\n",
       "    <tr>\n",
       "      <th>1292952</th>\n",
       "      <td>9303</td>\n",
       "      <td>1157631</td>\n",
       "      <td>5.0</td>\n",
       "      <td>2018-09-29</td>\n",
       "      <td>Male</td>\n",
       "      <td>Headphones</td>\n",
       "      <td>nan</td>\n",
       "      <td>2018</td>\n",
       "      <td>9</td>\n",
       "    </tr>\n",
       "    <tr>\n",
       "      <th>1292953</th>\n",
       "      <td>9478</td>\n",
       "      <td>1157632</td>\n",
       "      <td>1.0</td>\n",
       "      <td>2018-10-01</td>\n",
       "      <td>Female</td>\n",
       "      <td>Headphones</td>\n",
       "      <td>Etre Jeune</td>\n",
       "      <td>2018</td>\n",
       "      <td>10</td>\n",
       "    </tr>\n",
       "  </tbody>\n",
       "</table>\n",
       "<p>1292954 rows × 9 columns</p>\n",
       "</div>"
      ],
      "text/plain": [
       "         item_id  user_id  rating  timestamp model_attr  \\\n",
       "0              0        0     5.0 1999-06-13     Female   \n",
       "1              0        1     5.0 1999-06-14     Female   \n",
       "2              0        2     3.0 1999-06-17     Female   \n",
       "3              0        3     1.0 1999-07-01     Female   \n",
       "4              0        4     2.0 1999-07-06     Female   \n",
       "...          ...      ...     ...        ...        ...   \n",
       "1292949     9478  1157628     1.0 2018-09-26     Female   \n",
       "1292950     9435  1157629     5.0 2018-09-26     Female   \n",
       "1292951     9305  1157630     3.0 2018-09-26     Female   \n",
       "1292952     9303  1157631     5.0 2018-09-29       Male   \n",
       "1292953     9478  1157632     1.0 2018-10-01     Female   \n",
       "\n",
       "                        category       brand  year  month  \n",
       "0         Portable Audio & Video         nan  1999      6  \n",
       "1         Portable Audio & Video         nan  1999      6  \n",
       "2         Portable Audio & Video         nan  1999      6  \n",
       "3         Portable Audio & Video         nan  1999      7  \n",
       "4         Portable Audio & Video         nan  1999      7  \n",
       "...                          ...         ...   ...    ...  \n",
       "1292949               Headphones  Etre Jeune  2018      9  \n",
       "1292950  Computers & Accessories         nan  2018      9  \n",
       "1292951  Computers & Accessories         nan  2018      9  \n",
       "1292952               Headphones         nan  2018      9  \n",
       "1292953               Headphones  Etre Jeune  2018     10  \n",
       "\n",
       "[1292954 rows x 9 columns]"
      ]
     },
     "execution_count": 35,
     "metadata": {},
     "output_type": "execute_result"
    }
   ],
   "source": [
    "df"
   ]
  },
  {
   "cell_type": "code",
   "execution_count": 9,
   "id": "f56f361c",
   "metadata": {
    "scrolled": true
   },
   "outputs": [
    {
     "data": {
      "text/plain": [
       "<Axes: xlabel='brand'>"
      ]
     },
     "execution_count": 9,
     "metadata": {},
     "output_type": "execute_result"
    },
    {
     "data": {
      "image/png": "[encoded data removed]",
      "text/plain": [
       "<Figure size 640x480 with 1 Axes>"
      ]
     },
     "metadata": {},
     "output_type": "display_data"
    }
   ],
   "source": [
    "# what product sold the most in 2016\n",
    "# what product sold the most in 2017\n",
    "# what product sold the most in 2018\n",
    "\n",
    "# How much was made in sales in the year 2015\n",
    "df[df['year']==2015].groupby('brand')['rating'].count().sort_values(ascending=False)[:9].plot(kind='bar')"
   ]
  },
  {
   "cell_type": "code",
   "execution_count": null,
   "id": "58893523",
   "metadata": {},
   "outputs": [],
   "source": [
    "df['year'].value_counts()"
   ]
  },
  {
   "cell_type": "code",
   "execution_count": null,
   "id": "22cbded1",
   "metadata": {
    "scrolled": true
   },
   "outputs": [],
   "source": [
    "df['category'].value_counts()"
   ]
  },
  {
   "cell_type": "code",
   "execution_count": null,
   "id": "5d504078",
   "metadata": {},
   "outputs": [],
   "source": []
  }
 ],
 "metadata": {
  "kernelspec": {
   "display_name": "Python 3 (ipykernel)",
   "language": "python",
   "name": "python3"
  },
  "language_info": {
   "codemirror_mode": {
    "name": "ipython",
    "version": 3
   },
   "file_extension": ".py",
   "mimetype": "text/x-python",
   "name": "python",
   "nbconvert_exporter": "python",
   "pygments_lexer": "ipython3",
   "version": "3.11.3"
  }
 },
 "nbformat": 4,
 "nbformat_minor": 5
}
